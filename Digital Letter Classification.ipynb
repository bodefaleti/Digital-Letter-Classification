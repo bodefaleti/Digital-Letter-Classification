{
 "cells": [
  {
   "cell_type": "markdown",
   "id": "narrow-relative",
   "metadata": {},
   "source": [
    "# Digital Letter Classification"
   ]
  },
  {
   "cell_type": "markdown",
   "id": "aggressive-acrobat",
   "metadata": {},
   "source": [
    "## <u>Data Preprocessing</u>"
   ]
  },
  {
   "cell_type": "code",
   "execution_count": 1,
   "id": "forward-creek",
   "metadata": {},
   "outputs": [],
   "source": [
    "import numpy as np\n",
    "import pandas as pd\n",
    "import matplotlib.pyplot as plt\n",
    "%matplotlib inline"
   ]
  },
  {
   "cell_type": "markdown",
   "id": "latter-omaha",
   "metadata": {},
   "source": [
    "**Import data:**"
   ]
  },
  {
   "cell_type": "markdown",
   "id": "resistant-attachment",
   "metadata": {},
   "source": [
    "Source of data: http://archive.ics.uci.edu/ml/datasets/Letter+Recognition"
   ]
  },
  {
   "cell_type": "code",
   "execution_count": 2,
   "id": "thick-orchestra",
   "metadata": {},
   "outputs": [],
   "source": [
    "letters = pd.read_csv(\"letter-recognition.data\",\n",
    "                      sep = ',', header = None)"
   ]
  },
  {
   "cell_type": "code",
   "execution_count": 3,
   "id": "loose-illustration",
   "metadata": {},
   "outputs": [
    {
     "name": "stdout",
     "output_type": "stream",
     "text": [
      "(20000, 17)\n"
     ]
    },
    {
     "data": {
      "text/html": [
       "<div>\n",
       "<style scoped>\n",
       "    .dataframe tbody tr th:only-of-type {\n",
       "        vertical-align: middle;\n",
       "    }\n",
       "\n",
       "    .dataframe tbody tr th {\n",
       "        vertical-align: top;\n",
       "    }\n",
       "\n",
       "    .dataframe thead th {\n",
       "        text-align: right;\n",
       "    }\n",
       "</style>\n",
       "<table border=\"1\" class=\"dataframe\">\n",
       "  <thead>\n",
       "    <tr style=\"text-align: right;\">\n",
       "      <th></th>\n",
       "      <th>0</th>\n",
       "      <th>1</th>\n",
       "      <th>2</th>\n",
       "      <th>3</th>\n",
       "      <th>4</th>\n",
       "      <th>5</th>\n",
       "      <th>6</th>\n",
       "      <th>7</th>\n",
       "      <th>8</th>\n",
       "      <th>9</th>\n",
       "      <th>10</th>\n",
       "      <th>11</th>\n",
       "      <th>12</th>\n",
       "      <th>13</th>\n",
       "      <th>14</th>\n",
       "      <th>15</th>\n",
       "      <th>16</th>\n",
       "    </tr>\n",
       "  </thead>\n",
       "  <tbody>\n",
       "    <tr>\n",
       "      <th>0</th>\n",
       "      <td>T</td>\n",
       "      <td>2</td>\n",
       "      <td>8</td>\n",
       "      <td>3</td>\n",
       "      <td>5</td>\n",
       "      <td>1</td>\n",
       "      <td>8</td>\n",
       "      <td>13</td>\n",
       "      <td>0</td>\n",
       "      <td>6</td>\n",
       "      <td>6</td>\n",
       "      <td>10</td>\n",
       "      <td>8</td>\n",
       "      <td>0</td>\n",
       "      <td>8</td>\n",
       "      <td>0</td>\n",
       "      <td>8</td>\n",
       "    </tr>\n",
       "    <tr>\n",
       "      <th>1</th>\n",
       "      <td>I</td>\n",
       "      <td>5</td>\n",
       "      <td>12</td>\n",
       "      <td>3</td>\n",
       "      <td>7</td>\n",
       "      <td>2</td>\n",
       "      <td>10</td>\n",
       "      <td>5</td>\n",
       "      <td>5</td>\n",
       "      <td>4</td>\n",
       "      <td>13</td>\n",
       "      <td>3</td>\n",
       "      <td>9</td>\n",
       "      <td>2</td>\n",
       "      <td>8</td>\n",
       "      <td>4</td>\n",
       "      <td>10</td>\n",
       "    </tr>\n",
       "    <tr>\n",
       "      <th>2</th>\n",
       "      <td>D</td>\n",
       "      <td>4</td>\n",
       "      <td>11</td>\n",
       "      <td>6</td>\n",
       "      <td>8</td>\n",
       "      <td>6</td>\n",
       "      <td>10</td>\n",
       "      <td>6</td>\n",
       "      <td>2</td>\n",
       "      <td>6</td>\n",
       "      <td>10</td>\n",
       "      <td>3</td>\n",
       "      <td>7</td>\n",
       "      <td>3</td>\n",
       "      <td>7</td>\n",
       "      <td>3</td>\n",
       "      <td>9</td>\n",
       "    </tr>\n",
       "    <tr>\n",
       "      <th>3</th>\n",
       "      <td>N</td>\n",
       "      <td>7</td>\n",
       "      <td>11</td>\n",
       "      <td>6</td>\n",
       "      <td>6</td>\n",
       "      <td>3</td>\n",
       "      <td>5</td>\n",
       "      <td>9</td>\n",
       "      <td>4</td>\n",
       "      <td>6</td>\n",
       "      <td>4</td>\n",
       "      <td>4</td>\n",
       "      <td>10</td>\n",
       "      <td>6</td>\n",
       "      <td>10</td>\n",
       "      <td>2</td>\n",
       "      <td>8</td>\n",
       "    </tr>\n",
       "    <tr>\n",
       "      <th>4</th>\n",
       "      <td>G</td>\n",
       "      <td>2</td>\n",
       "      <td>1</td>\n",
       "      <td>3</td>\n",
       "      <td>1</td>\n",
       "      <td>1</td>\n",
       "      <td>8</td>\n",
       "      <td>6</td>\n",
       "      <td>6</td>\n",
       "      <td>6</td>\n",
       "      <td>6</td>\n",
       "      <td>5</td>\n",
       "      <td>9</td>\n",
       "      <td>1</td>\n",
       "      <td>7</td>\n",
       "      <td>5</td>\n",
       "      <td>10</td>\n",
       "    </tr>\n",
       "  </tbody>\n",
       "</table>\n",
       "</div>"
      ],
      "text/plain": [
       "  0   1   2   3   4   5   6   7   8   9   10  11  12  13  14  15  16\n",
       "0  T   2   8   3   5   1   8  13   0   6   6  10   8   0   8   0   8\n",
       "1  I   5  12   3   7   2  10   5   5   4  13   3   9   2   8   4  10\n",
       "2  D   4  11   6   8   6  10   6   2   6  10   3   7   3   7   3   9\n",
       "3  N   7  11   6   6   3   5   9   4   6   4   4  10   6  10   2   8\n",
       "4  G   2   1   3   1   1   8   6   6   6   6   5   9   1   7   5  10"
      ]
     },
     "execution_count": 3,
     "metadata": {},
     "output_type": "execute_result"
    }
   ],
   "source": [
    "print(letters.shape)\n",
    "letters.head()"
   ]
  },
  {
   "cell_type": "markdown",
   "id": "japanese-holder",
   "metadata": {},
   "source": [
    "**Retrieve and apply names of columns:**"
   ]
  },
  {
   "cell_type": "code",
   "execution_count": 4,
   "id": "tested-coverage",
   "metadata": {},
   "outputs": [],
   "source": [
    "names = open(\"letter-recognition.names\", 'r')\n",
    "names_all = names.readlines()\n",
    "names.close()\n",
    "\n",
    "#names of columns exist on the following range\n",
    "names_all = names_all[37:54]\n",
    "\n",
    "#retrieve the column names and descriptions\n",
    "column_names = []\n",
    "column_names_desc = []\n",
    "\n",
    "for i in range(len(names_all)):\n",
    "    names_all[i] = names_all[i].strip('\\n')\n",
    "    line_split = names_all[i].split('\\t')\n",
    "    column_names.append(line_split[2])\n",
    "    column_names_desc.append(line_split[3])\n",
    "    \n",
    "letters.columns = column_names"
   ]
  },
  {
   "cell_type": "markdown",
   "id": "wrapped-maldives",
   "metadata": {},
   "source": [
    "**The dataframe after applying the correct columns:**"
   ]
  },
  {
   "cell_type": "code",
   "execution_count": 5,
   "id": "above-malta",
   "metadata": {},
   "outputs": [
    {
     "data": {
      "text/html": [
       "<div>\n",
       "<style scoped>\n",
       "    .dataframe tbody tr th:only-of-type {\n",
       "        vertical-align: middle;\n",
       "    }\n",
       "\n",
       "    .dataframe tbody tr th {\n",
       "        vertical-align: top;\n",
       "    }\n",
       "\n",
       "    .dataframe thead th {\n",
       "        text-align: right;\n",
       "    }\n",
       "</style>\n",
       "<table border=\"1\" class=\"dataframe\">\n",
       "  <thead>\n",
       "    <tr style=\"text-align: right;\">\n",
       "      <th></th>\n",
       "      <th>lettr</th>\n",
       "      <th>x-box</th>\n",
       "      <th>y-box</th>\n",
       "      <th>width</th>\n",
       "      <th>high</th>\n",
       "      <th>onpix</th>\n",
       "      <th>x-bar</th>\n",
       "      <th>y-bar</th>\n",
       "      <th>x2bar</th>\n",
       "      <th>y2bar</th>\n",
       "      <th>xybar</th>\n",
       "      <th>x2ybr</th>\n",
       "      <th>xy2br</th>\n",
       "      <th>x-ege</th>\n",
       "      <th>xegvy</th>\n",
       "      <th>y-ege</th>\n",
       "      <th>yegvx</th>\n",
       "    </tr>\n",
       "  </thead>\n",
       "  <tbody>\n",
       "    <tr>\n",
       "      <th>0</th>\n",
       "      <td>T</td>\n",
       "      <td>2</td>\n",
       "      <td>8</td>\n",
       "      <td>3</td>\n",
       "      <td>5</td>\n",
       "      <td>1</td>\n",
       "      <td>8</td>\n",
       "      <td>13</td>\n",
       "      <td>0</td>\n",
       "      <td>6</td>\n",
       "      <td>6</td>\n",
       "      <td>10</td>\n",
       "      <td>8</td>\n",
       "      <td>0</td>\n",
       "      <td>8</td>\n",
       "      <td>0</td>\n",
       "      <td>8</td>\n",
       "    </tr>\n",
       "    <tr>\n",
       "      <th>1</th>\n",
       "      <td>I</td>\n",
       "      <td>5</td>\n",
       "      <td>12</td>\n",
       "      <td>3</td>\n",
       "      <td>7</td>\n",
       "      <td>2</td>\n",
       "      <td>10</td>\n",
       "      <td>5</td>\n",
       "      <td>5</td>\n",
       "      <td>4</td>\n",
       "      <td>13</td>\n",
       "      <td>3</td>\n",
       "      <td>9</td>\n",
       "      <td>2</td>\n",
       "      <td>8</td>\n",
       "      <td>4</td>\n",
       "      <td>10</td>\n",
       "    </tr>\n",
       "    <tr>\n",
       "      <th>2</th>\n",
       "      <td>D</td>\n",
       "      <td>4</td>\n",
       "      <td>11</td>\n",
       "      <td>6</td>\n",
       "      <td>8</td>\n",
       "      <td>6</td>\n",
       "      <td>10</td>\n",
       "      <td>6</td>\n",
       "      <td>2</td>\n",
       "      <td>6</td>\n",
       "      <td>10</td>\n",
       "      <td>3</td>\n",
       "      <td>7</td>\n",
       "      <td>3</td>\n",
       "      <td>7</td>\n",
       "      <td>3</td>\n",
       "      <td>9</td>\n",
       "    </tr>\n",
       "    <tr>\n",
       "      <th>3</th>\n",
       "      <td>N</td>\n",
       "      <td>7</td>\n",
       "      <td>11</td>\n",
       "      <td>6</td>\n",
       "      <td>6</td>\n",
       "      <td>3</td>\n",
       "      <td>5</td>\n",
       "      <td>9</td>\n",
       "      <td>4</td>\n",
       "      <td>6</td>\n",
       "      <td>4</td>\n",
       "      <td>4</td>\n",
       "      <td>10</td>\n",
       "      <td>6</td>\n",
       "      <td>10</td>\n",
       "      <td>2</td>\n",
       "      <td>8</td>\n",
       "    </tr>\n",
       "    <tr>\n",
       "      <th>4</th>\n",
       "      <td>G</td>\n",
       "      <td>2</td>\n",
       "      <td>1</td>\n",
       "      <td>3</td>\n",
       "      <td>1</td>\n",
       "      <td>1</td>\n",
       "      <td>8</td>\n",
       "      <td>6</td>\n",
       "      <td>6</td>\n",
       "      <td>6</td>\n",
       "      <td>6</td>\n",
       "      <td>5</td>\n",
       "      <td>9</td>\n",
       "      <td>1</td>\n",
       "      <td>7</td>\n",
       "      <td>5</td>\n",
       "      <td>10</td>\n",
       "    </tr>\n",
       "    <tr>\n",
       "      <th>...</th>\n",
       "      <td>...</td>\n",
       "      <td>...</td>\n",
       "      <td>...</td>\n",
       "      <td>...</td>\n",
       "      <td>...</td>\n",
       "      <td>...</td>\n",
       "      <td>...</td>\n",
       "      <td>...</td>\n",
       "      <td>...</td>\n",
       "      <td>...</td>\n",
       "      <td>...</td>\n",
       "      <td>...</td>\n",
       "      <td>...</td>\n",
       "      <td>...</td>\n",
       "      <td>...</td>\n",
       "      <td>...</td>\n",
       "      <td>...</td>\n",
       "    </tr>\n",
       "    <tr>\n",
       "      <th>19995</th>\n",
       "      <td>D</td>\n",
       "      <td>2</td>\n",
       "      <td>2</td>\n",
       "      <td>3</td>\n",
       "      <td>3</td>\n",
       "      <td>2</td>\n",
       "      <td>7</td>\n",
       "      <td>7</td>\n",
       "      <td>7</td>\n",
       "      <td>6</td>\n",
       "      <td>6</td>\n",
       "      <td>6</td>\n",
       "      <td>4</td>\n",
       "      <td>2</td>\n",
       "      <td>8</td>\n",
       "      <td>3</td>\n",
       "      <td>7</td>\n",
       "    </tr>\n",
       "    <tr>\n",
       "      <th>19996</th>\n",
       "      <td>C</td>\n",
       "      <td>7</td>\n",
       "      <td>10</td>\n",
       "      <td>8</td>\n",
       "      <td>8</td>\n",
       "      <td>4</td>\n",
       "      <td>4</td>\n",
       "      <td>8</td>\n",
       "      <td>6</td>\n",
       "      <td>9</td>\n",
       "      <td>12</td>\n",
       "      <td>9</td>\n",
       "      <td>13</td>\n",
       "      <td>2</td>\n",
       "      <td>9</td>\n",
       "      <td>3</td>\n",
       "      <td>7</td>\n",
       "    </tr>\n",
       "    <tr>\n",
       "      <th>19997</th>\n",
       "      <td>T</td>\n",
       "      <td>6</td>\n",
       "      <td>9</td>\n",
       "      <td>6</td>\n",
       "      <td>7</td>\n",
       "      <td>5</td>\n",
       "      <td>6</td>\n",
       "      <td>11</td>\n",
       "      <td>3</td>\n",
       "      <td>7</td>\n",
       "      <td>11</td>\n",
       "      <td>9</td>\n",
       "      <td>5</td>\n",
       "      <td>2</td>\n",
       "      <td>12</td>\n",
       "      <td>2</td>\n",
       "      <td>4</td>\n",
       "    </tr>\n",
       "    <tr>\n",
       "      <th>19998</th>\n",
       "      <td>S</td>\n",
       "      <td>2</td>\n",
       "      <td>3</td>\n",
       "      <td>4</td>\n",
       "      <td>2</td>\n",
       "      <td>1</td>\n",
       "      <td>8</td>\n",
       "      <td>7</td>\n",
       "      <td>2</td>\n",
       "      <td>6</td>\n",
       "      <td>10</td>\n",
       "      <td>6</td>\n",
       "      <td>8</td>\n",
       "      <td>1</td>\n",
       "      <td>9</td>\n",
       "      <td>5</td>\n",
       "      <td>8</td>\n",
       "    </tr>\n",
       "    <tr>\n",
       "      <th>19999</th>\n",
       "      <td>A</td>\n",
       "      <td>4</td>\n",
       "      <td>9</td>\n",
       "      <td>6</td>\n",
       "      <td>6</td>\n",
       "      <td>2</td>\n",
       "      <td>9</td>\n",
       "      <td>5</td>\n",
       "      <td>3</td>\n",
       "      <td>1</td>\n",
       "      <td>8</td>\n",
       "      <td>1</td>\n",
       "      <td>8</td>\n",
       "      <td>2</td>\n",
       "      <td>7</td>\n",
       "      <td>2</td>\n",
       "      <td>8</td>\n",
       "    </tr>\n",
       "  </tbody>\n",
       "</table>\n",
       "<p>20000 rows × 17 columns</p>\n",
       "</div>"
      ],
      "text/plain": [
       "      lettr  x-box  y-box  width  high   onpix  x-bar  y-bar  x2bar  y2bar  \\\n",
       "0         T      2      8      3      5      1      8     13      0      6   \n",
       "1         I      5     12      3      7      2     10      5      5      4   \n",
       "2         D      4     11      6      8      6     10      6      2      6   \n",
       "3         N      7     11      6      6      3      5      9      4      6   \n",
       "4         G      2      1      3      1      1      8      6      6      6   \n",
       "...     ...    ...    ...    ...    ...    ...    ...    ...    ...    ...   \n",
       "19995     D      2      2      3      3      2      7      7      7      6   \n",
       "19996     C      7     10      8      8      4      4      8      6      9   \n",
       "19997     T      6      9      6      7      5      6     11      3      7   \n",
       "19998     S      2      3      4      2      1      8      7      2      6   \n",
       "19999     A      4      9      6      6      2      9      5      3      1   \n",
       "\n",
       "       xybar  x2ybr  xy2br  x-ege  xegvy  y-ege  yegvx  \n",
       "0          6     10      8      0      8      0      8  \n",
       "1         13      3      9      2      8      4     10  \n",
       "2         10      3      7      3      7      3      9  \n",
       "3          4      4     10      6     10      2      8  \n",
       "4          6      5      9      1      7      5     10  \n",
       "...      ...    ...    ...    ...    ...    ...    ...  \n",
       "19995      6      6      4      2      8      3      7  \n",
       "19996     12      9     13      2      9      3      7  \n",
       "19997     11      9      5      2     12      2      4  \n",
       "19998     10      6      8      1      9      5      8  \n",
       "19999      8      1      8      2      7      2      8  \n",
       "\n",
       "[20000 rows x 17 columns]"
      ]
     },
     "execution_count": 5,
     "metadata": {},
     "output_type": "execute_result"
    }
   ],
   "source": [
    "letters"
   ]
  },
  {
   "cell_type": "markdown",
   "id": "former-recording",
   "metadata": {},
   "source": [
    "**No missing data to resolve and the columns have appropriate data types associated with them:**"
   ]
  },
  {
   "cell_type": "code",
   "execution_count": 6,
   "id": "wicked-twenty",
   "metadata": {},
   "outputs": [
    {
     "name": "stdout",
     "output_type": "stream",
     "text": [
      "<class 'pandas.core.frame.DataFrame'>\n",
      "RangeIndex: 20000 entries, 0 to 19999\n",
      "Data columns (total 17 columns):\n",
      " #   Column  Non-Null Count  Dtype \n",
      "---  ------  --------------  ----- \n",
      " 0   lettr   20000 non-null  object\n",
      " 1   x-box   20000 non-null  int64 \n",
      " 2   y-box   20000 non-null  int64 \n",
      " 3   width   20000 non-null  int64 \n",
      " 4   high    20000 non-null  int64 \n",
      " 5   onpix   20000 non-null  int64 \n",
      " 6   x-bar   20000 non-null  int64 \n",
      " 7   y-bar   20000 non-null  int64 \n",
      " 8   x2bar   20000 non-null  int64 \n",
      " 9   y2bar   20000 non-null  int64 \n",
      " 10  xybar   20000 non-null  int64 \n",
      " 11  x2ybr   20000 non-null  int64 \n",
      " 12  xy2br   20000 non-null  int64 \n",
      " 13  x-ege   20000 non-null  int64 \n",
      " 14  xegvy   20000 non-null  int64 \n",
      " 15  y-ege   20000 non-null  int64 \n",
      " 16  yegvx   20000 non-null  int64 \n",
      "dtypes: int64(16), object(1)\n",
      "memory usage: 2.6+ MB\n"
     ]
    }
   ],
   "source": [
    "letters.info()"
   ]
  },
  {
   "cell_type": "markdown",
   "id": "amber-clear",
   "metadata": {},
   "source": [
    "Standardization/normalization of numeric variables is not necessary because:\n",
    "**each stimulus was converted into 16 primitive numerical attributes (statistical moments and edge counts) which were then scaled to fit into a range of integer values from 0 through 15** (per the .names file). The summary table below exhibits this:"
   ]
  },
  {
   "cell_type": "code",
   "execution_count": 7,
   "id": "little-blank",
   "metadata": {},
   "outputs": [
    {
     "data": {
      "text/html": [
       "<div>\n",
       "<style scoped>\n",
       "    .dataframe tbody tr th:only-of-type {\n",
       "        vertical-align: middle;\n",
       "    }\n",
       "\n",
       "    .dataframe tbody tr th {\n",
       "        vertical-align: top;\n",
       "    }\n",
       "\n",
       "    .dataframe thead th {\n",
       "        text-align: right;\n",
       "    }\n",
       "</style>\n",
       "<table border=\"1\" class=\"dataframe\">\n",
       "  <thead>\n",
       "    <tr style=\"text-align: right;\">\n",
       "      <th></th>\n",
       "      <th>x-box</th>\n",
       "      <th>y-box</th>\n",
       "      <th>width</th>\n",
       "      <th>high</th>\n",
       "      <th>onpix</th>\n",
       "      <th>x-bar</th>\n",
       "      <th>y-bar</th>\n",
       "      <th>x2bar</th>\n",
       "      <th>y2bar</th>\n",
       "      <th>xybar</th>\n",
       "      <th>x2ybr</th>\n",
       "      <th>xy2br</th>\n",
       "      <th>x-ege</th>\n",
       "      <th>xegvy</th>\n",
       "      <th>y-ege</th>\n",
       "      <th>yegvx</th>\n",
       "    </tr>\n",
       "  </thead>\n",
       "  <tbody>\n",
       "    <tr>\n",
       "      <th>count</th>\n",
       "      <td>20000.000000</td>\n",
       "      <td>20000.000000</td>\n",
       "      <td>20000.000000</td>\n",
       "      <td>20000.00000</td>\n",
       "      <td>20000.000000</td>\n",
       "      <td>20000.000000</td>\n",
       "      <td>20000.000000</td>\n",
       "      <td>20000.000000</td>\n",
       "      <td>20000.000000</td>\n",
       "      <td>20000.000000</td>\n",
       "      <td>20000.00000</td>\n",
       "      <td>20000.000000</td>\n",
       "      <td>20000.000000</td>\n",
       "      <td>20000.000000</td>\n",
       "      <td>20000.000000</td>\n",
       "      <td>20000.00000</td>\n",
       "    </tr>\n",
       "    <tr>\n",
       "      <th>mean</th>\n",
       "      <td>4.023550</td>\n",
       "      <td>7.035500</td>\n",
       "      <td>5.121850</td>\n",
       "      <td>5.37245</td>\n",
       "      <td>3.505850</td>\n",
       "      <td>6.897600</td>\n",
       "      <td>7.500450</td>\n",
       "      <td>4.628600</td>\n",
       "      <td>5.178650</td>\n",
       "      <td>8.282050</td>\n",
       "      <td>6.45400</td>\n",
       "      <td>7.929000</td>\n",
       "      <td>3.046100</td>\n",
       "      <td>8.338850</td>\n",
       "      <td>3.691750</td>\n",
       "      <td>7.80120</td>\n",
       "    </tr>\n",
       "    <tr>\n",
       "      <th>std</th>\n",
       "      <td>1.913212</td>\n",
       "      <td>3.304555</td>\n",
       "      <td>2.014573</td>\n",
       "      <td>2.26139</td>\n",
       "      <td>2.190458</td>\n",
       "      <td>2.026035</td>\n",
       "      <td>2.325354</td>\n",
       "      <td>2.699968</td>\n",
       "      <td>2.380823</td>\n",
       "      <td>2.488475</td>\n",
       "      <td>2.63107</td>\n",
       "      <td>2.080619</td>\n",
       "      <td>2.332541</td>\n",
       "      <td>1.546722</td>\n",
       "      <td>2.567073</td>\n",
       "      <td>1.61747</td>\n",
       "    </tr>\n",
       "    <tr>\n",
       "      <th>min</th>\n",
       "      <td>0.000000</td>\n",
       "      <td>0.000000</td>\n",
       "      <td>0.000000</td>\n",
       "      <td>0.00000</td>\n",
       "      <td>0.000000</td>\n",
       "      <td>0.000000</td>\n",
       "      <td>0.000000</td>\n",
       "      <td>0.000000</td>\n",
       "      <td>0.000000</td>\n",
       "      <td>0.000000</td>\n",
       "      <td>0.00000</td>\n",
       "      <td>0.000000</td>\n",
       "      <td>0.000000</td>\n",
       "      <td>0.000000</td>\n",
       "      <td>0.000000</td>\n",
       "      <td>0.00000</td>\n",
       "    </tr>\n",
       "    <tr>\n",
       "      <th>25%</th>\n",
       "      <td>3.000000</td>\n",
       "      <td>5.000000</td>\n",
       "      <td>4.000000</td>\n",
       "      <td>4.00000</td>\n",
       "      <td>2.000000</td>\n",
       "      <td>6.000000</td>\n",
       "      <td>6.000000</td>\n",
       "      <td>3.000000</td>\n",
       "      <td>4.000000</td>\n",
       "      <td>7.000000</td>\n",
       "      <td>5.00000</td>\n",
       "      <td>7.000000</td>\n",
       "      <td>1.000000</td>\n",
       "      <td>8.000000</td>\n",
       "      <td>2.000000</td>\n",
       "      <td>7.00000</td>\n",
       "    </tr>\n",
       "    <tr>\n",
       "      <th>50%</th>\n",
       "      <td>4.000000</td>\n",
       "      <td>7.000000</td>\n",
       "      <td>5.000000</td>\n",
       "      <td>6.00000</td>\n",
       "      <td>3.000000</td>\n",
       "      <td>7.000000</td>\n",
       "      <td>7.000000</td>\n",
       "      <td>4.000000</td>\n",
       "      <td>5.000000</td>\n",
       "      <td>8.000000</td>\n",
       "      <td>6.00000</td>\n",
       "      <td>8.000000</td>\n",
       "      <td>3.000000</td>\n",
       "      <td>8.000000</td>\n",
       "      <td>3.000000</td>\n",
       "      <td>8.00000</td>\n",
       "    </tr>\n",
       "    <tr>\n",
       "      <th>75%</th>\n",
       "      <td>5.000000</td>\n",
       "      <td>9.000000</td>\n",
       "      <td>6.000000</td>\n",
       "      <td>7.00000</td>\n",
       "      <td>5.000000</td>\n",
       "      <td>8.000000</td>\n",
       "      <td>9.000000</td>\n",
       "      <td>6.000000</td>\n",
       "      <td>7.000000</td>\n",
       "      <td>10.000000</td>\n",
       "      <td>8.00000</td>\n",
       "      <td>9.000000</td>\n",
       "      <td>4.000000</td>\n",
       "      <td>9.000000</td>\n",
       "      <td>5.000000</td>\n",
       "      <td>9.00000</td>\n",
       "    </tr>\n",
       "    <tr>\n",
       "      <th>max</th>\n",
       "      <td>15.000000</td>\n",
       "      <td>15.000000</td>\n",
       "      <td>15.000000</td>\n",
       "      <td>15.00000</td>\n",
       "      <td>15.000000</td>\n",
       "      <td>15.000000</td>\n",
       "      <td>15.000000</td>\n",
       "      <td>15.000000</td>\n",
       "      <td>15.000000</td>\n",
       "      <td>15.000000</td>\n",
       "      <td>15.00000</td>\n",
       "      <td>15.000000</td>\n",
       "      <td>15.000000</td>\n",
       "      <td>15.000000</td>\n",
       "      <td>15.000000</td>\n",
       "      <td>15.00000</td>\n",
       "    </tr>\n",
       "  </tbody>\n",
       "</table>\n",
       "</div>"
      ],
      "text/plain": [
       "              x-box         y-box         width        high          onpix  \\\n",
       "count  20000.000000  20000.000000  20000.000000  20000.00000  20000.000000   \n",
       "mean       4.023550      7.035500      5.121850      5.37245      3.505850   \n",
       "std        1.913212      3.304555      2.014573      2.26139      2.190458   \n",
       "min        0.000000      0.000000      0.000000      0.00000      0.000000   \n",
       "25%        3.000000      5.000000      4.000000      4.00000      2.000000   \n",
       "50%        4.000000      7.000000      5.000000      6.00000      3.000000   \n",
       "75%        5.000000      9.000000      6.000000      7.00000      5.000000   \n",
       "max       15.000000     15.000000     15.000000     15.00000     15.000000   \n",
       "\n",
       "              x-bar         y-bar         x2bar         y2bar         xybar  \\\n",
       "count  20000.000000  20000.000000  20000.000000  20000.000000  20000.000000   \n",
       "mean       6.897600      7.500450      4.628600      5.178650      8.282050   \n",
       "std        2.026035      2.325354      2.699968      2.380823      2.488475   \n",
       "min        0.000000      0.000000      0.000000      0.000000      0.000000   \n",
       "25%        6.000000      6.000000      3.000000      4.000000      7.000000   \n",
       "50%        7.000000      7.000000      4.000000      5.000000      8.000000   \n",
       "75%        8.000000      9.000000      6.000000      7.000000     10.000000   \n",
       "max       15.000000     15.000000     15.000000     15.000000     15.000000   \n",
       "\n",
       "             x2ybr         xy2br         x-ege         xegvy         y-ege  \\\n",
       "count  20000.00000  20000.000000  20000.000000  20000.000000  20000.000000   \n",
       "mean       6.45400      7.929000      3.046100      8.338850      3.691750   \n",
       "std        2.63107      2.080619      2.332541      1.546722      2.567073   \n",
       "min        0.00000      0.000000      0.000000      0.000000      0.000000   \n",
       "25%        5.00000      7.000000      1.000000      8.000000      2.000000   \n",
       "50%        6.00000      8.000000      3.000000      8.000000      3.000000   \n",
       "75%        8.00000      9.000000      4.000000      9.000000      5.000000   \n",
       "max       15.00000     15.000000     15.000000     15.000000     15.000000   \n",
       "\n",
       "             yegvx  \n",
       "count  20000.00000  \n",
       "mean       7.80120  \n",
       "std        1.61747  \n",
       "min        0.00000  \n",
       "25%        7.00000  \n",
       "50%        8.00000  \n",
       "75%        9.00000  \n",
       "max       15.00000  "
      ]
     },
     "execution_count": 7,
     "metadata": {},
     "output_type": "execute_result"
    }
   ],
   "source": [
    "letters.describe()"
   ]
  },
  {
   "cell_type": "markdown",
   "id": "descending-smooth",
   "metadata": {},
   "source": [
    "**Split data into indepedent and dependent variables**"
   ]
  },
  {
   "cell_type": "code",
   "execution_count": 8,
   "id": "hungarian-facility",
   "metadata": {},
   "outputs": [
    {
     "data": {
      "text/plain": [
       "0    T\n",
       "1    I\n",
       "2    D\n",
       "3    N\n",
       "4    G\n",
       "Name: lettr, dtype: object"
      ]
     },
     "execution_count": 8,
     "metadata": {},
     "output_type": "execute_result"
    }
   ],
   "source": [
    "letters_target = letters['lettr']\n",
    "letters_target.head()"
   ]
  },
  {
   "cell_type": "code",
   "execution_count": 9,
   "id": "unauthorized-france",
   "metadata": {},
   "outputs": [
    {
     "data": {
      "text/html": [
       "<div>\n",
       "<style scoped>\n",
       "    .dataframe tbody tr th:only-of-type {\n",
       "        vertical-align: middle;\n",
       "    }\n",
       "\n",
       "    .dataframe tbody tr th {\n",
       "        vertical-align: top;\n",
       "    }\n",
       "\n",
       "    .dataframe thead th {\n",
       "        text-align: right;\n",
       "    }\n",
       "</style>\n",
       "<table border=\"1\" class=\"dataframe\">\n",
       "  <thead>\n",
       "    <tr style=\"text-align: right;\">\n",
       "      <th></th>\n",
       "      <th>x-box</th>\n",
       "      <th>y-box</th>\n",
       "      <th>width</th>\n",
       "      <th>high</th>\n",
       "      <th>onpix</th>\n",
       "      <th>x-bar</th>\n",
       "      <th>y-bar</th>\n",
       "      <th>x2bar</th>\n",
       "      <th>y2bar</th>\n",
       "      <th>xybar</th>\n",
       "      <th>x2ybr</th>\n",
       "      <th>xy2br</th>\n",
       "      <th>x-ege</th>\n",
       "      <th>xegvy</th>\n",
       "      <th>y-ege</th>\n",
       "      <th>yegvx</th>\n",
       "    </tr>\n",
       "  </thead>\n",
       "  <tbody>\n",
       "    <tr>\n",
       "      <th>0</th>\n",
       "      <td>2</td>\n",
       "      <td>8</td>\n",
       "      <td>3</td>\n",
       "      <td>5</td>\n",
       "      <td>1</td>\n",
       "      <td>8</td>\n",
       "      <td>13</td>\n",
       "      <td>0</td>\n",
       "      <td>6</td>\n",
       "      <td>6</td>\n",
       "      <td>10</td>\n",
       "      <td>8</td>\n",
       "      <td>0</td>\n",
       "      <td>8</td>\n",
       "      <td>0</td>\n",
       "      <td>8</td>\n",
       "    </tr>\n",
       "    <tr>\n",
       "      <th>1</th>\n",
       "      <td>5</td>\n",
       "      <td>12</td>\n",
       "      <td>3</td>\n",
       "      <td>7</td>\n",
       "      <td>2</td>\n",
       "      <td>10</td>\n",
       "      <td>5</td>\n",
       "      <td>5</td>\n",
       "      <td>4</td>\n",
       "      <td>13</td>\n",
       "      <td>3</td>\n",
       "      <td>9</td>\n",
       "      <td>2</td>\n",
       "      <td>8</td>\n",
       "      <td>4</td>\n",
       "      <td>10</td>\n",
       "    </tr>\n",
       "    <tr>\n",
       "      <th>2</th>\n",
       "      <td>4</td>\n",
       "      <td>11</td>\n",
       "      <td>6</td>\n",
       "      <td>8</td>\n",
       "      <td>6</td>\n",
       "      <td>10</td>\n",
       "      <td>6</td>\n",
       "      <td>2</td>\n",
       "      <td>6</td>\n",
       "      <td>10</td>\n",
       "      <td>3</td>\n",
       "      <td>7</td>\n",
       "      <td>3</td>\n",
       "      <td>7</td>\n",
       "      <td>3</td>\n",
       "      <td>9</td>\n",
       "    </tr>\n",
       "    <tr>\n",
       "      <th>3</th>\n",
       "      <td>7</td>\n",
       "      <td>11</td>\n",
       "      <td>6</td>\n",
       "      <td>6</td>\n",
       "      <td>3</td>\n",
       "      <td>5</td>\n",
       "      <td>9</td>\n",
       "      <td>4</td>\n",
       "      <td>6</td>\n",
       "      <td>4</td>\n",
       "      <td>4</td>\n",
       "      <td>10</td>\n",
       "      <td>6</td>\n",
       "      <td>10</td>\n",
       "      <td>2</td>\n",
       "      <td>8</td>\n",
       "    </tr>\n",
       "    <tr>\n",
       "      <th>4</th>\n",
       "      <td>2</td>\n",
       "      <td>1</td>\n",
       "      <td>3</td>\n",
       "      <td>1</td>\n",
       "      <td>1</td>\n",
       "      <td>8</td>\n",
       "      <td>6</td>\n",
       "      <td>6</td>\n",
       "      <td>6</td>\n",
       "      <td>6</td>\n",
       "      <td>5</td>\n",
       "      <td>9</td>\n",
       "      <td>1</td>\n",
       "      <td>7</td>\n",
       "      <td>5</td>\n",
       "      <td>10</td>\n",
       "    </tr>\n",
       "  </tbody>\n",
       "</table>\n",
       "</div>"
      ],
      "text/plain": [
       "   x-box  y-box  width  high   onpix  x-bar  y-bar  x2bar  y2bar  xybar  \\\n",
       "0      2      8      3      5      1      8     13      0      6      6   \n",
       "1      5     12      3      7      2     10      5      5      4     13   \n",
       "2      4     11      6      8      6     10      6      2      6     10   \n",
       "3      7     11      6      6      3      5      9      4      6      4   \n",
       "4      2      1      3      1      1      8      6      6      6      6   \n",
       "\n",
       "   x2ybr  xy2br  x-ege  xegvy  y-ege  yegvx  \n",
       "0     10      8      0      8      0      8  \n",
       "1      3      9      2      8      4     10  \n",
       "2      3      7      3      7      3      9  \n",
       "3      4     10      6     10      2      8  \n",
       "4      5      9      1      7      5     10  "
      ]
     },
     "execution_count": 9,
     "metadata": {},
     "output_type": "execute_result"
    }
   ],
   "source": [
    "letters_matrix = letters.iloc[:, 1:]\n",
    "letters_matrix.head()"
   ]
  },
  {
   "cell_type": "markdown",
   "id": "impaired-marketplace",
   "metadata": {},
   "source": [
    "**Split the data further (80/20) into training and test sets via \"train_test_split\" module of \"sklearn.model_selection\":**"
   ]
  },
  {
   "cell_type": "code",
   "execution_count": 10,
   "id": "ongoing-garden",
   "metadata": {},
   "outputs": [],
   "source": [
    "from sklearn.model_selection import train_test_split\n",
    "\n",
    "letters_train, letters_test, letters_target_train, letters_target_test = train_test_split(\n",
    "    letters_matrix, letters_target, test_size = 0.2, random_state = 45)"
   ]
  },
  {
   "cell_type": "markdown",
   "id": "fleet-wiring",
   "metadata": {},
   "source": [
    "## <u>K-Nearest Neighbors</u>"
   ]
  },
  {
   "cell_type": "code",
   "execution_count": 11,
   "id": "divine-costume",
   "metadata": {},
   "outputs": [
    {
     "data": {
      "text/plain": [
       "KNeighborsClassifier(weights='distance')"
      ]
     },
     "execution_count": 11,
     "metadata": {},
     "output_type": "execute_result"
    }
   ],
   "source": [
    "from sklearn import neighbors\n",
    "\n",
    "n_neighbors = 5\n",
    "\n",
    "knnclf = neighbors.KNeighborsClassifier(n_neighbors, weights='distance')\n",
    "knnclf.fit(letters_train, letters_target_train)"
   ]
  },
  {
   "cell_type": "markdown",
   "id": "current-potter",
   "metadata": {},
   "source": [
    "**Predict function is called on the test observations to produce the predicted classes:**"
   ]
  },
  {
   "cell_type": "code",
   "execution_count": 12,
   "id": "minor-coral",
   "metadata": {},
   "outputs": [
    {
     "data": {
      "text/plain": [
       "array(['E', 'O', 'O', ..., 'W', 'A', 'C'], dtype=object)"
      ]
     },
     "execution_count": 12,
     "metadata": {},
     "output_type": "execute_result"
    }
   ],
   "source": [
    "knnpreds_test = knnclf.predict(letters_test)\n",
    "knnpreds_test"
   ]
  },
  {
   "cell_type": "markdown",
   "id": "blocked-norwegian",
   "metadata": {},
   "source": [
    "### K-NN Classifier Evaluation"
   ]
  },
  {
   "cell_type": "code",
   "execution_count": 13,
   "id": "arranged-trance",
   "metadata": {},
   "outputs": [
    {
     "name": "stdout",
     "output_type": "stream",
     "text": [
      "              precision    recall  f1-score   support\n",
      "\n",
      "           A       0.99      0.99      0.99       171\n",
      "           B       0.92      0.96      0.94       150\n",
      "           C       0.98      0.96      0.97       133\n",
      "           D       0.93      0.97      0.95       154\n",
      "           E       0.94      0.96      0.95       151\n",
      "           F       0.94      0.94      0.94       162\n",
      "           G       0.95      0.98      0.97       142\n",
      "           H       0.92      0.89      0.91       140\n",
      "           I       0.96      0.98      0.97       156\n",
      "           J       0.97      0.95      0.96       156\n",
      "           K       0.92      0.93      0.93       153\n",
      "           L       1.00      0.98      0.99       165\n",
      "           M       0.98      0.95      0.97       152\n",
      "           N       0.97      0.95      0.96       167\n",
      "           O       0.91      0.97      0.93       148\n",
      "           P       0.98      0.92      0.95       157\n",
      "           Q       0.99      0.95      0.97       172\n",
      "           R       0.92      0.94      0.93       166\n",
      "           S       0.98      0.98      0.98       142\n",
      "           T       0.94      0.99      0.96       136\n",
      "           U       1.00      0.98      0.99       171\n",
      "           V       0.95      0.97      0.96       144\n",
      "           W       0.96      0.98      0.97       138\n",
      "           X       0.99      0.94      0.96       174\n",
      "           Y       0.98      0.98      0.98       154\n",
      "           Z       0.98      0.99      0.99       146\n",
      "\n",
      "    accuracy                           0.96      4000\n",
      "   macro avg       0.96      0.96      0.96      4000\n",
      "weighted avg       0.96      0.96      0.96      4000\n",
      "\n"
     ]
    }
   ],
   "source": [
    "from sklearn.metrics import classification_report\n",
    "print(classification_report(letters_target_test, knnpreds_test))"
   ]
  },
  {
   "cell_type": "code",
   "execution_count": 14,
   "id": "cheap-skirt",
   "metadata": {},
   "outputs": [
    {
     "data": {
      "text/plain": [
       "0.96025"
      ]
     },
     "execution_count": 14,
     "metadata": {},
     "output_type": "execute_result"
    }
   ],
   "source": [
    "from sklearn.metrics import accuracy_score\n",
    "accuracy_score(letters_target_test, knnpreds_test)"
   ]
  },
  {
   "cell_type": "markdown",
   "id": "metropolitan-recorder",
   "metadata": {},
   "source": [
    "**Confusion Matrix:**"
   ]
  },
  {
   "cell_type": "code",
   "execution_count": 15,
   "id": "maritime-emerald",
   "metadata": {
    "scrolled": true
   },
   "outputs": [
    {
     "name": "stdout",
     "output_type": "stream",
     "text": [
      "[[170   1   0   0   0   0   0   0   0   0   0   0   0   0   0   0   0   0\n",
      "    0   0   0   0   0   0   0   0]\n",
      " [  0 144   0   0   1   0   0   0   0   0   1   0   0   0   0   0   0   3\n",
      "    0   0   0   1   0   0   0   0]\n",
      " [  0   0 128   0   0   0   1   0   0   0   0   0   0   0   3   0   0   0\n",
      "    0   0   0   0   1   0   0   0]\n",
      " [  0   1   0 149   0   0   0   2   0   0   0   0   0   0   1   0   0   1\n",
      "    0   0   0   0   0   0   0   0]\n",
      " [  0   1   1   0 145   0   1   0   0   0   0   0   0   0   0   0   1   0\n",
      "    0   0   0   0   0   1   0   1]\n",
      " [  0   0   0   0   0 152   0   0   0   0   0   0   0   2   0   1   0   0\n",
      "    1   5   0   1   0   0   0   0]\n",
      " [  0   0   0   0   2   0 139   0   0   0   0   0   0   0   0   0   0   0\n",
      "    0   0   0   0   1   0   0   0]\n",
      " [  0   1   0   3   1   0   3 125   0   0   1   0   1   1   1   0   0   3\n",
      "    0   0   0   0   0   0   0   0]\n",
      " [  0   0   0   0   0   0   0   0 153   3   0   0   0   0   0   0   0   0\n",
      "    0   0   0   0   0   0   0   0]\n",
      " [  0   0   0   0   0   0   0   0   6 148   0   0   0   1   0   1   0   0\n",
      "    0   0   0   0   0   0   0   0]\n",
      " [  0   0   0   0   1   0   1   5   0   0 142   0   0   0   0   0   0   3\n",
      "    0   0   0   0   0   1   0   0]\n",
      " [  0   0   0   0   2   0   0   0   0   1   0 162   0   0   0   0   0   0\n",
      "    0   0   0   0   0   0   0   0]\n",
      " [  1   1   0   0   0   0   1   0   0   0   0   0 145   1   0   0   0   0\n",
      "    0   0   0   2   1   0   0   0]\n",
      " [  0   0   0   4   0   0   0   0   0   0   0   0   1 159   1   0   0   1\n",
      "    0   0   0   1   0   0   0   0]\n",
      " [  0   0   2   2   0   0   0   0   0   0   0   0   0   0 143   0   1   0\n",
      "    0   0   0   0   0   0   0   0]\n",
      " [  0   0   0   1   0   9   0   0   0   0   0   0   0   0   1 145   0   0\n",
      "    0   0   0   0   0   0   1   0]\n",
      " [  0   0   0   0   0   0   0   0   0   0   0   0   0   0   6   1 163   2\n",
      "    0   0   0   0   0   0   0   0]\n",
      " [  0   3   0   1   0   0   0   1   0   0   4   0   0   0   0   0   0 156\n",
      "    0   0   0   1   0   0   0   0]\n",
      " [  0   1   0   0   0   0   0   0   0   0   0   0   0   0   0   0   0   0\n",
      "  139   1   0   0   0   0   0   1]\n",
      " [  0   0   0   0   0   0   0   0   0   0   0   0   0   0   0   0   0   0\n",
      "    0 134   0   0   0   0   2   0]\n",
      " [  0   0   0   0   0   0   0   2   0   0   0   0   0   0   1   0   0   0\n",
      "    0   0 167   1   0   0   0   0]\n",
      " [  0   3   0   0   0   0   0   0   0   0   0   0   0   0   0   0   0   0\n",
      "    0   0   0 139   2   0   0   0]\n",
      " [  0   0   0   0   0   0   0   1   0   0   0   0   1   0   1   0   0   0\n",
      "    0   0   0   0 135   0   0   0]\n",
      " [  0   0   0   0   1   0   0   0   0   0   6   0   0   0   0   0   0   1\n",
      "    2   0   0   0   0 163   0   1]\n",
      " [  1   0   0   0   0   0   0   0   0   0   0   0   0   0   0   0   0   0\n",
      "    0   2   0   0   0   0 151   0]\n",
      " [  0   0   0   0   1   0   0   0   0   0   0   0   0   0   0   0   0   0\n",
      "    0   0   0   0   0   0   0 145]]\n"
     ]
    }
   ],
   "source": [
    "from sklearn.metrics import confusion_matrix\n",
    "knncm = confusion_matrix(letters_target_test, knnpreds_test)\n",
    "print(knncm)"
   ]
  },
  {
   "cell_type": "markdown",
   "id": "eligible-synthesis",
   "metadata": {},
   "source": [
    "**Confusion matrix via matplotlib:**"
   ]
  },
  {
   "cell_type": "code",
   "execution_count": 16,
   "id": "imposed-welsh",
   "metadata": {},
   "outputs": [
    {
     "data": {
      "image/png": "[encoded data removed]",
      "text/plain": [
       "<Figure size 288x288 with 2 Axes>"
      ]
     },
     "metadata": {
      "needs_background": "light"
     },
     "output_type": "display_data"
    }
   ],
   "source": [
    "import pylab as plt\n",
    "\n",
    "plt.matshow(knncm)\n",
    "plt.title('Confusion matrix')\n",
    "plt.colorbar()\n",
    "plt.ylabel('Actual')\n",
    "plt.xlabel('Predicted')\n",
    "plt.show()"
   ]
  },
  {
   "cell_type": "markdown",
   "id": "grateful-gasoline",
   "metadata": {},
   "source": [
    "**The confusion matrix above would be more useful if the distribution of letters (class labels, generally) was balanced. The classficiation report above featuring the various accuracy metrics is adequate.**"
   ]
  },
  {
   "cell_type": "code",
   "execution_count": 17,
   "id": "protective-replacement",
   "metadata": {
    "scrolled": true
   },
   "outputs": [
    {
     "data": {
      "text/plain": [
       "U    813\n",
       "D    805\n",
       "P    803\n",
       "T    796\n",
       "M    792\n",
       "A    789\n",
       "X    787\n",
       "Y    786\n",
       "N    783\n",
       "Q    783\n",
       "F    775\n",
       "G    773\n",
       "E    768\n",
       "B    766\n",
       "V    764\n",
       "L    761\n",
       "R    758\n",
       "I    755\n",
       "O    753\n",
       "W    752\n",
       "S    748\n",
       "J    747\n",
       "K    739\n",
       "C    736\n",
       "H    734\n",
       "Z    734\n",
       "Name: lettr, dtype: int64"
      ]
     },
     "execution_count": 17,
     "metadata": {},
     "output_type": "execute_result"
    }
   ],
   "source": [
    "letters['lettr'].value_counts()"
   ]
  },
  {
   "cell_type": "markdown",
   "id": "designing-police",
   "metadata": {},
   "source": [
    "### K-value Optimization"
   ]
  },
  {
   "cell_type": "markdown",
   "id": "precise-toddler",
   "metadata": {},
   "source": [
    "**Run a loop to find a k-value that maximizes model accuracy:**"
   ]
  },
  {
   "cell_type": "code",
   "execution_count": 18,
   "id": "empirical-parade",
   "metadata": {},
   "outputs": [],
   "source": [
    "from sklearn.metrics import accuracy_score\n",
    "from sklearn import neighbors\n",
    "\n",
    "acc = []\n",
    "num_list = []\n",
    "\n",
    "from sklearn import metrics\n",
    "for i in range(5,51):\n",
    "    if i % 5 != 0:\n",
    "        pass\n",
    "    else:\n",
    "        num_list.append(i)\n",
    "        knnclf_loop = neighbors.KNeighborsClassifier(n_neighbors = i).fit(letters_train, letters_target_train)\n",
    "        knnpreds_test_loop = knnclf_loop.predict(letters_test)\n",
    "        acc.append(accuracy_score(letters_target_test, knnpreds_test_loop))"
   ]
  },
  {
   "cell_type": "code",
   "execution_count": 19,
   "id": "starting-coordinator",
   "metadata": {},
   "outputs": [
    {
     "name": "stdout",
     "output_type": "stream",
     "text": [
      "Maximum accuracy:  0.955 at K = 5\n"
     ]
    },
    {
     "data": {
      "image/png": "[encoded data removed]",
      "text/plain": [
       "<Figure size 720x432 with 1 Axes>"
      ]
     },
     "metadata": {
      "needs_background": "light"
     },
     "output_type": "display_data"
    }
   ],
   "source": [
    "plt.figure(figsize = (10, 6))\n",
    "plt.plot(num_list, acc, color = 'red', linestyle = 'dashed', \n",
    "         marker = 'o', markerfacecolor = 'blue', markersize = 10)\n",
    "plt.title('Accuracy vs K Value')\n",
    "plt.xlabel('K')\n",
    "plt.ylabel('Accuracy')\n",
    "\n",
    "print('Maximum accuracy: ', max(acc), 'at K =', 2 * acc.index(max(acc)) + 5)"
   ]
  },
  {
   "cell_type": "markdown",
   "id": "typical-stationery",
   "metadata": {},
   "source": [
    "**Model accuracy decreases as the number of neighbors increases which is expected given the 26 class labels (or letters) that are possible for each observation.**"
   ]
  },
  {
   "cell_type": "markdown",
   "id": "brave-emission",
   "metadata": {},
   "source": [
    "## <u>Decision Tree</u>"
   ]
  },
  {
   "cell_type": "code",
   "execution_count": 20,
   "id": "wireless-plane",
   "metadata": {},
   "outputs": [],
   "source": [
    "from sklearn import tree\n",
    "\n",
    "treeclf = tree.DecisionTreeClassifier(criterion='entropy', min_samples_leaf=100, \n",
    "                                      min_samples_split = 200, max_depth = 20)\n",
    "#entropy is chosen as the node criterion because Gini impurity struggles with large numbers of classes"
   ]
  },
  {
   "cell_type": "code",
   "execution_count": 21,
   "id": "immune-elder",
   "metadata": {},
   "outputs": [
    {
     "data": {
      "text/plain": [
       "DecisionTreeClassifier(criterion='entropy', max_depth=20, min_samples_leaf=100,\n",
       "                       min_samples_split=200)"
      ]
     },
     "execution_count": 21,
     "metadata": {},
     "output_type": "execute_result"
    }
   ],
   "source": [
    "treeclf.fit(letters_train, letters_target_train)"
   ]
  },
  {
   "cell_type": "markdown",
   "id": "lightweight-bernard",
   "metadata": {},
   "source": [
    "**Predict function is called on the test observations to produce the predicted classes:**"
   ]
  },
  {
   "cell_type": "code",
   "execution_count": 22,
   "id": "substantial-reason",
   "metadata": {},
   "outputs": [
    {
     "data": {
      "text/plain": [
       "array(['E', 'B', 'O', ..., 'W', 'A', 'C'], dtype=object)"
      ]
     },
     "execution_count": 22,
     "metadata": {},
     "output_type": "execute_result"
    }
   ],
   "source": [
    "treepreds_test = treeclf.predict(letters_test)\n",
    "treepreds_test"
   ]
  },
  {
   "cell_type": "markdown",
   "id": "invisible-freeze",
   "metadata": {},
   "source": [
    "### Decision Tree Classifier Evaluation"
   ]
  },
  {
   "cell_type": "code",
   "execution_count": 23,
   "id": "revised-surrey",
   "metadata": {},
   "outputs": [
    {
     "name": "stdout",
     "output_type": "stream",
     "text": [
      "              precision    recall  f1-score   support\n",
      "\n",
      "           A       0.72      0.82      0.77       171\n",
      "           B       0.52      0.71      0.60       150\n",
      "           C       0.66      0.59      0.62       133\n",
      "           D       0.60      0.65      0.62       154\n",
      "           E       0.55      0.70      0.62       151\n",
      "           F       0.48      0.69      0.57       162\n",
      "           G       0.60      0.51      0.55       142\n",
      "           H       0.62      0.41      0.50       140\n",
      "           I       0.84      0.69      0.76       156\n",
      "           J       0.79      0.71      0.75       156\n",
      "           K       0.54      0.63      0.58       153\n",
      "           L       0.71      0.79      0.74       165\n",
      "           M       0.98      0.68      0.80       152\n",
      "           N       0.69      0.82      0.75       167\n",
      "           O       0.47      0.64      0.54       148\n",
      "           P       0.70      0.67      0.68       157\n",
      "           Q       0.73      0.57      0.64       172\n",
      "           R       0.52      0.66      0.58       166\n",
      "           S       0.49      0.44      0.46       142\n",
      "           T       0.91      0.59      0.71       136\n",
      "           U       0.93      0.66      0.77       171\n",
      "           V       0.86      0.66      0.75       144\n",
      "           W       0.84      0.78      0.81       138\n",
      "           X       0.60      0.67      0.63       174\n",
      "           Y       0.69      0.66      0.68       154\n",
      "           Z       0.67      0.62      0.65       146\n",
      "\n",
      "    accuracy                           0.66      4000\n",
      "   macro avg       0.68      0.65      0.66      4000\n",
      "weighted avg       0.68      0.66      0.66      4000\n",
      "\n"
     ]
    }
   ],
   "source": [
    "from sklearn.metrics import classification_report\n",
    "print(classification_report(letters_target_test, treepreds_test))"
   ]
  },
  {
   "cell_type": "code",
   "execution_count": 24,
   "id": "broadband-grace",
   "metadata": {},
   "outputs": [
    {
     "data": {
      "text/plain": [
       "0.6575"
      ]
     },
     "execution_count": 24,
     "metadata": {},
     "output_type": "execute_result"
    }
   ],
   "source": [
    "from sklearn.metrics import accuracy_score\n",
    "accuracy_score(letters_target_test, treepreds_test)"
   ]
  },
  {
   "cell_type": "code",
   "execution_count": 25,
   "id": "understood-perfume",
   "metadata": {
    "scrolled": true
   },
   "outputs": [
    {
     "name": "stdout",
     "output_type": "stream",
     "text": [
      "[[140   0   0   0   0   0   0   0   0   2   3   1   0   9   0   0   6   2\n",
      "    4   0   0   0   0   1   3   0]\n",
      " [  0 106   0   6   3   6   8   0   0   2   3   1   0   0   1   0   0   8\n",
      "    1   0   0   0   1   0   0   4]\n",
      " [  5   0  79   0   6   8   7   4   0   0   5   3   0   0  14   2   0   0\n",
      "    0   0   0   0   0   0   0   0]\n",
      " [  4  10   0 100   2   1   0   1   0   4   1   4   0   2  12   2   0   7\n",
      "    2   0   0   0   0   1   1   0]\n",
      " [  0   0   8   0 105   4   5   0   2   0   1   4   0   0   0   0   3   5\n",
      "    9   0   0   0   0   5   0   0]\n",
      " [  0   7   0   5   0 112   0   0   0   0   0   1   0   0   1  10   1   1\n",
      "    6   2   0   1   0   0  10   5]\n",
      " [  3   3  11   0   0   3  72  11   0   2   5   0   0   0   5   0  14  11\n",
      "    2   0   0   0   0   0   0   0]\n",
      " [  2   6   1   8   6   5   1  58   0   0  11   0   0   7  13   0   0  17\n",
      "    0   0   1   1   0   0   3   0]\n",
      " [  0   9   0   5   1   6   0   0 108   5   0   0   0   0   0   1   0   9\n",
      "    8   0   0   0   0   1   1   2]\n",
      " [  3   8   0   1   1   7   0   1   1 111   2   0   0   1   1   0   0   2\n",
      "    5   0   0   0   0   5   1   6]\n",
      " [  0   1   0   1  17   1   0   8   0   0  96   1   0   1   2   0   0   4\n",
      "    3   0   0   0   0  18   0   0]\n",
      " [  2   0   4   0   1   1   1   0  15   1   1 130   0   1   0   0   0   3\n",
      "    0   0   0   0   0   5   0   0]\n",
      " [  6   0   0   2   0   4   3   0   0   4  13   0 103  10   1   0   1   3\n",
      "    0   0   0   0   1   1   0   0]\n",
      " [  5   1   0   2   0   0   0   0   0   1   1   1   0 137   0   3   1   5\n",
      "    0   0   1   0   7   1   1   0]\n",
      " [  1   4   0   7   1   1   1   3   0   1   2   1   0   4  94   2   6   8\n",
      "    0   0   0   0   0  12   0   0]\n",
      " [  0   6   0   1   0  28   1   0   0   0   0   0   0   0   1 105   0   0\n",
      "    5   0   0   0   5   1   4   0]\n",
      " [  0   0   6   7   5   3   5   0   0   2   2   8   0   0  22   0  98   6\n",
      "    1   0   0   0   0   7   0   0]\n",
      " [  2  11   0   8   0   3   0   1   0   2  10  12   0   0   0   0   0 109\n",
      "    0   0   0   0   1   4   0   3]\n",
      " [  0   5   0   6  10   5   3   4   3   0   6   6   0   0   1   0   0   7\n",
      "   62   0   0   1   0   7   0  16]\n",
      " [  7   5   0   0   1   1   1   0   0   2   4   0   0   0   0   8   0   0\n",
      "    0  80   1   3   0   2  19   2]\n",
      " [  6   0   0   0   1   0   0   2   0   1   3   1   2  12  24   0   0   0\n",
      "    0   0 113   3   0   3   0   0]\n",
      " [  3   0   1   0   0  12   3   0   0   0   2   2   0   4   0  11   0   0\n",
      "    0   0   5  95   3   1   2   0]\n",
      " [  0   1   0   0   0   0   4   0   0   0   2   1   0  10   1   2   4   3\n",
      "    0   0   0   0 108   2   0   0]\n",
      " [  4  17   6   0  13   5   0   0   0   0   3   1   0   0   4   0   0   0\n",
      "    0   0   0   0   0 116   0   5]\n",
      " [  0   1   4   1   0  14   6   0   0   0   1   3   0   0   2   4   1   0\n",
      "    0   6   0   6   2   0 102   1]\n",
      " [  1   2   0   7  17   4   0   0   0   0   0   3   0   0   0   0   0   1\n",
      "   19   0   0   0   0   0   1  91]]\n"
     ]
    }
   ],
   "source": [
    "from sklearn.metrics import confusion_matrix\n",
    "treecm = confusion_matrix(letters_target_test, treepreds_test)\n",
    "print(treecm)"
   ]
  },
  {
   "cell_type": "code",
   "execution_count": 26,
   "id": "opponent-locking",
   "metadata": {
    "scrolled": true
   },
   "outputs": [
    {
     "data": {
      "image/png": "[encoded data removed]",
      "text/plain": [
       "<Figure size 288x288 with 2 Axes>"
      ]
     },
     "metadata": {
      "needs_background": "light"
     },
     "output_type": "display_data"
    }
   ],
   "source": [
    "import pylab as plt\n",
    "\n",
    "plt.matshow(treecm)\n",
    "plt.title('Confusion matrix')\n",
    "plt.colorbar()\n",
    "plt.ylabel('Actual')\n",
    "plt.xlabel('Predicted')\n",
    "plt.show()"
   ]
  },
  {
   "cell_type": "markdown",
   "id": "individual-folder",
   "metadata": {},
   "source": [
    "### Decision Tree Visualization"
   ]
  },
  {
   "cell_type": "code",
   "execution_count": 27,
   "id": "bridal-shannon",
   "metadata": {
    "scrolled": false
   },
   "outputs": [
    {
     "data": {
      "image/png": "[encoded data removed]",
      "text/plain": [
       "<Figure size 1440x720 with 1 Axes>"
      ]
     },
     "metadata": {
      "needs_background": "light"
     },
     "output_type": "display_data"
    }
   ],
   "source": [
    "from sklearn import tree\n",
    "\n",
    "plt.figure(figsize = (20, 10))\n",
    "tree.plot_tree(treeclf.fit(letters_train, letters_target_train))\n",
    "plt.savefig('tree_high_dpi', dpi = 100)\n",
    "plt.show()"
   ]
  },
  {
   "cell_type": "markdown",
   "id": "wound-lunch",
   "metadata": {},
   "source": [
    "As expected, there are a lot of branches and leaves based on the default parameters set for tree. Below, I zoom in on the top of the tree to identify the key attributes that reveal the most information in this dataset. "
   ]
  },
  {
   "cell_type": "code",
   "execution_count": 28,
   "id": "capable-hawaiian",
   "metadata": {},
   "outputs": [
    {
     "data": {
      "image/png": "[encoded data removed]",
      "text/plain": [
       "<Figure size 1440x720 with 1 Axes>"
      ]
     },
     "metadata": {
      "needs_background": "light"
     },
     "output_type": "display_data"
    }
   ],
   "source": [
    "treeclf = tree.DecisionTreeClassifier(criterion='entropy', min_samples_leaf=100, \n",
    "                                      min_samples_split = 200, max_depth = 2)\n",
    "\n",
    "plt.figure(figsize = (20, 10))\n",
    "tree.plot_tree(treeclf.fit(letters_train, letters_target_train))\n",
    "plt.show()"
   ]
  },
  {
   "cell_type": "markdown",
   "id": "union-transportation",
   "metadata": {},
   "source": [
    "**Definition of relevant attributes:**"
   ]
  },
  {
   "cell_type": "markdown",
   "id": "bronze-centre",
   "metadata": {},
   "source": [
    "X[14] = xegvy (mean edge count left to right)  <br>\n",
    "X[12] = xy2br (mean of x * y * y)  <br>\n",
    "x[11] = x2ybr (mean of x * x * y)"
   ]
  },
  {
   "cell_type": "markdown",
   "id": "legitimate-highlight",
   "metadata": {},
   "source": [
    "### Leaf-Node Threshold Optimization"
   ]
  },
  {
   "cell_type": "markdown",
   "id": "tribal-shirt",
   "metadata": {},
   "source": [
    "**Run a loop to confirm that small leaf-node thresholds lead to more accurate but over-fitting decision trees**"
   ]
  },
  {
   "cell_type": "code",
   "execution_count": 29,
   "id": "radio-sustainability",
   "metadata": {},
   "outputs": [],
   "source": [
    "from sklearn.metrics import accuracy_score\n",
    "from sklearn import neighbors\n",
    "\n",
    "tree_acc = []\n",
    "tree_node_list = [100, 90, 70, 50, 25, 15, 5, 3, 2]\n",
    "\n",
    "from sklearn import metrics\n",
    "\n",
    "for i in range(len(tree_node_list)):\n",
    "    treeclf_loop = tree.DecisionTreeClassifier(criterion='entropy', min_samples_leaf = tree_node_list[i], \n",
    "                                      min_samples_split = tree_node_list[i] * 2, max_depth = 20).fit(\n",
    "        letters_train, letters_target_train)\n",
    "    treepreds_test_loop = treeclf_loop.predict(letters_test)\n",
    "    tree_acc.append(accuracy_score(letters_target_test, treepreds_test_loop))"
   ]
  },
  {
   "cell_type": "code",
   "execution_count": 30,
   "id": "modular-cleanup",
   "metadata": {},
   "outputs": [
    {
     "name": "stdout",
     "output_type": "stream",
     "text": [
      "Maximum accuracy:  0.87 with a leaf-node threshold of 2\n"
     ]
    },
    {
     "data": {
      "image/png": "[encoded data removed]",
      "text/plain": [
       "<Figure size 720x432 with 1 Axes>"
      ]
     },
     "metadata": {
      "needs_background": "light"
     },
     "output_type": "display_data"
    }
   ],
   "source": [
    "plt.figure(figsize = (10, 6))\n",
    "plt.plot(tree_node_list, tree_acc, color = 'orange', linestyle = 'dashed', \n",
    "         marker = 'o', markerfacecolor = 'green', markersize = 10)\n",
    "plt.title('Accuracy vs Leaf-Node Threshold')\n",
    "plt.xlabel('Leaf-Node Threshold')\n",
    "plt.ylabel('Accuracy')\n",
    "\n",
    "print('Maximum accuracy: ', max(tree_acc), 'with a leaf-node threshold of', \n",
    "      tree_node_list[tree_acc.index(max(tree_acc))])"
   ]
  },
  {
   "cell_type": "markdown",
   "id": "rapid-slovakia",
   "metadata": {},
   "source": [
    "## <u>Cross-validation Results</u>"
   ]
  },
  {
   "cell_type": "markdown",
   "id": "combined-basket",
   "metadata": {},
   "source": [
    "### K-Nearest Neighbors (CV)"
   ]
  },
  {
   "cell_type": "code",
   "execution_count": 31,
   "id": "unsigned-richmond",
   "metadata": {},
   "outputs": [],
   "source": [
    "from sklearn.metrics import accuracy_score\n",
    "from sklearn import neighbors\n",
    "from sklearn.model_selection  import cross_val_score\n",
    "\n",
    "knn_cv_acc = []\n",
    "knn_cv_k_list = []\n",
    "\n",
    "from sklearn import metrics\n",
    "for i in range(5,51):\n",
    "    if i % 5 != 0:\n",
    "        pass\n",
    "    else:\n",
    "        knn_cv_k_list.append(i)\n",
    "        knnclf_cv = neighbors.KNeighborsClassifier(n_neighbors = i)\n",
    "        knn_cv_avg = cross_val_score(knnclf_cv, letters_matrix, letters_target, cv=10)\n",
    "        knn_cv_acc.append(knn_cv_avg.mean())"
   ]
  },
  {
   "cell_type": "code",
   "execution_count": 32,
   "id": "featured-foster",
   "metadata": {},
   "outputs": [
    {
     "name": "stdout",
     "output_type": "stream",
     "text": [
      "Maximum accuracy:  0.9550500000000002 at K = 5\n"
     ]
    },
    {
     "data": {
      "image/png": "[encoded data removed]",
      "text/plain": [
       "<Figure size 720x432 with 1 Axes>"
      ]
     },
     "metadata": {
      "needs_background": "light"
     },
     "output_type": "display_data"
    }
   ],
   "source": [
    "plt.figure(figsize = (10, 6))\n",
    "plt.plot(knn_cv_k_list, knn_cv_acc, color = 'blue', linestyle = 'dashed', \n",
    "         marker = 'o', markerfacecolor = 'red', markersize = 10)\n",
    "plt.title('Accuracy vs K Value [Crossvalidated]')\n",
    "plt.xlabel('K')\n",
    "plt.ylabel('Accuracy')\n",
    "\n",
    "print('Maximum accuracy: ', max(knn_cv_acc), 'at K =', 2 * knn_cv_acc.index(max(knn_cv_acc)) + 5)"
   ]
  },
  {
   "cell_type": "markdown",
   "id": "optical-priority",
   "metadata": {},
   "source": [
    "### Decision Tree (CV)"
   ]
  },
  {
   "cell_type": "code",
   "execution_count": 33,
   "id": "instant-parameter",
   "metadata": {},
   "outputs": [],
   "source": [
    "from sklearn.metrics import accuracy_score\n",
    "from sklearn import neighbors\n",
    "from sklearn.model_selection  import cross_val_score\n",
    "\n",
    "tree_cv_acc = []\n",
    "tree_cv_node_list = [100, 90, 70, 50, 25, 15, 5, 3, 2]\n",
    "\n",
    "from sklearn import metrics\n",
    "\n",
    "for i in range(len(tree_cv_node_list)):\n",
    "    treeclf_cv = tree.DecisionTreeClassifier(criterion='entropy', min_samples_leaf = tree_cv_node_list[i], \n",
    "                                      min_samples_split = tree_cv_node_list[i] * 2, max_depth = 20)\n",
    "    tree_cv_avg = cross_val_score(treeclf_cv, letters_matrix, letters_target, cv=10)\n",
    "    tree_cv_acc.append(tree_cv_avg.mean())"
   ]
  },
  {
   "cell_type": "code",
   "execution_count": 34,
   "id": "charged-average",
   "metadata": {},
   "outputs": [
    {
     "name": "stdout",
     "output_type": "stream",
     "text": [
      "Maximum accuracy:  0.8779999999999999 with a leaf-node threshold of 2\n"
     ]
    },
    {
     "data": {
      "image/png": "[encoded data removed]",
      "text/plain": [
       "<Figure size 720x432 with 1 Axes>"
      ]
     },
     "metadata": {
      "needs_background": "light"
     },
     "output_type": "display_data"
    }
   ],
   "source": [
    "plt.figure(figsize = (10, 6))\n",
    "plt.plot(tree_cv_node_list, tree_cv_acc, color = 'green', linestyle = 'dashed', \n",
    "         marker = 'o', markerfacecolor = 'orange', markersize = 10)\n",
    "plt.title('Accuracy vs Leaf-Node Threshold [Crossvalidated]')\n",
    "plt.xlabel('Leaf-Node Threshold')\n",
    "plt.ylabel('Accuracy')\n",
    "\n",
    "print('Maximum accuracy: ', max(tree_cv_acc), 'with a leaf-node threshold of', \n",
    "      tree_cv_node_list[tree_cv_acc.index(max(tree_cv_acc))])"
   ]
  }
 ],
 "metadata": {
  "kernelspec": {
   "display_name": "Python 3",
   "language": "python",
   "name": "python3"
  },
  "language_info": {
   "codemirror_mode": {
    "name": "ipython",
    "version": 3
   },
   "file_extension": ".py",
   "mimetype": "text/x-python",
   "name": "python",
   "nbconvert_exporter": "python",
   "pygments_lexer": "ipython3",
   "version": "3.9.1"
  }
 },
 "nbformat": 4,
 "nbformat_minor": 5
}
